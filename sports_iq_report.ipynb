{
 "cells": [
  {
   "cell_type": "code",
   "execution_count": 1,
   "metadata": {
    "collapsed": false
   },
   "outputs": [
    {
     "name": "stderr",
     "output_type": "stream",
     "text": [
      "C:\\Users\\rohit\\Anaconda3\\lib\\site-packages\\pandas\\compat\\_optional.py:106: UserWarning: Pandas requires version '1.2.1' or newer of 'bottleneck' (version '1.1.0' currently installed).\n",
      "  warnings.warn(msg, UserWarning)\n"
     ]
    }
   ],
   "source": [
    "import pandas as pd\n",
    "from nba_py import team\n",
    "from nba_py import game\n",
    "from nba_py import Scoreboard\n",
    "from datetime import date, timedelta"
   ]
  },
  {
   "cell_type": "markdown",
   "metadata": {},
   "source": [
    "### Part 1- Data Wrangling\n",
    "\n",
    "1) Downloading data from NBA.stats for the season 2018-2019 (16 Oct to 10th April) <br>\n",
    "2) Coverting data into Pandas DataFrame for futher processing <br>"
   ]
  },
  {
   "cell_type": "code",
   "execution_count": 19,
   "metadata": {
    "collapsed": false
   },
   "outputs": [],
   "source": [
    "# Date Generator - Date from 16th Oct 2018 to 10th April 2019\n",
    "\n",
    "date_list = []\n",
    "start_date = date(2018, 10, 16)\n",
    "end_date = date(2019, 4, 10)\n",
    "delta = timedelta(days=1)\n",
    "while start_date <= end_date:\n",
    "    #print (start_date.strftime(\"%Y-%m-%d\"))\n",
    "    date_list.append(start_date)\n",
    "    start_date += delta"
   ]
  },
  {
   "cell_type": "code",
   "execution_count": null,
   "metadata": {
    "collapsed": false
   },
   "outputs": [],
   "source": [
    "# Converting data into Pandas DataFrame\n",
    "df = pd.DataFrame()\n",
    "for i in range(len(date_list)):\n",
    "    date_month = date_list[i].month\n",
    "    date_day   = date_list[i].day\n",
    "    date_year  = date_list[i].year\n",
    "    data = Scoreboard(month=date_month, day=date_day, year=date_year, league_id='00', offset=0)\n",
    "    df_temp = data.line_score()\n",
    "    df = df.append(df_temp)"
   ]
  },
  {
   "cell_type": "code",
   "execution_count": 7,
   "metadata": {
    "collapsed": false
   },
   "outputs": [
    {
     "data": {
      "text/plain": [
       "124"
      ]
     },
     "execution_count": 7,
     "metadata": {},
     "output_type": "execute_result"
    }
   ],
   "source": [
    "# Check for Missing Data\n",
    "len(df)"
   ]
  },
  {
   "cell_type": "markdown",
   "metadata": {},
   "source": [
    "### Part 2 : Splitting Data into 4 Parts\n",
    "1) First Half - QTR1 + QTR2 <br>\n",
    "2) Second Half (including Overtime) = Total - First Half <br>\n",
    "3) Full Game (Already in PTS) <br>\n",
    "4) Regulation Time = QTR1 + QTR2 + QTR3 + QTR4 <br>"
   ]
  },
  {
   "cell_type": "code",
   "execution_count": 8,
   "metadata": {
    "collapsed": false
   },
   "outputs": [],
   "source": [
    "df['PTS_FHALF'] = df['PTS_QTR1'] + df['PTS_QTR2']\n",
    "df['PTS_SHALF'] = df['PTS'] - df['PTS_FHALF']\n",
    "df['REG_PTS']   = df['PTS_QTR1'] + df['PTS_QTR2'] + df['PTS_QTR3'] + df['PTS_QTR4']\n"
   ]
  },
  {
   "cell_type": "code",
   "execution_count": 9,
   "metadata": {
    "collapsed": false
   },
   "outputs": [
    {
     "data": {
      "text/html": [
       "<div>\n",
       "<style scoped>\n",
       "    .dataframe tbody tr th:only-of-type {\n",
       "        vertical-align: middle;\n",
       "    }\n",
       "\n",
       "    .dataframe tbody tr th {\n",
       "        vertical-align: top;\n",
       "    }\n",
       "\n",
       "    .dataframe thead th {\n",
       "        text-align: right;\n",
       "    }\n",
       "</style>\n",
       "<table border=\"1\" class=\"dataframe\">\n",
       "  <thead>\n",
       "    <tr style=\"text-align: right;\">\n",
       "      <th></th>\n",
       "      <th>GAME_DATE_EST</th>\n",
       "      <th>GAME_SEQUENCE</th>\n",
       "      <th>GAME_ID</th>\n",
       "      <th>TEAM_ID</th>\n",
       "      <th>TEAM_ABBREVIATION</th>\n",
       "      <th>TEAM_CITY_NAME</th>\n",
       "      <th>TEAM_WINS_LOSSES</th>\n",
       "      <th>PTS_QTR1</th>\n",
       "      <th>PTS_QTR2</th>\n",
       "      <th>PTS_QTR3</th>\n",
       "      <th>...</th>\n",
       "      <th>PTS</th>\n",
       "      <th>FG_PCT</th>\n",
       "      <th>FT_PCT</th>\n",
       "      <th>FG3_PCT</th>\n",
       "      <th>AST</th>\n",
       "      <th>REB</th>\n",
       "      <th>TOV</th>\n",
       "      <th>PTS_FHALF</th>\n",
       "      <th>PTS_SHALF</th>\n",
       "      <th>REG_PTS</th>\n",
       "    </tr>\n",
       "  </thead>\n",
       "  <tbody>\n",
       "    <tr>\n",
       "      <td>0</td>\n",
       "      <td>2018-10-16T00:00:00</td>\n",
       "      <td>1</td>\n",
       "      <td>0021800001</td>\n",
       "      <td>1610612755</td>\n",
       "      <td>PHI</td>\n",
       "      <td>Philadelphia</td>\n",
       "      <td>0-1</td>\n",
       "      <td>21</td>\n",
       "      <td>21</td>\n",
       "      <td>24</td>\n",
       "      <td>...</td>\n",
       "      <td>87</td>\n",
       "      <td>0.391</td>\n",
       "      <td>0.609</td>\n",
       "      <td>0.192</td>\n",
       "      <td>18</td>\n",
       "      <td>47</td>\n",
       "      <td>16</td>\n",
       "      <td>42</td>\n",
       "      <td>45</td>\n",
       "      <td>87</td>\n",
       "    </tr>\n",
       "    <tr>\n",
       "      <td>1</td>\n",
       "      <td>2018-10-16T00:00:00</td>\n",
       "      <td>1</td>\n",
       "      <td>0021800001</td>\n",
       "      <td>1610612738</td>\n",
       "      <td>BOS</td>\n",
       "      <td>Boston</td>\n",
       "      <td>1-0</td>\n",
       "      <td>21</td>\n",
       "      <td>26</td>\n",
       "      <td>30</td>\n",
       "      <td>...</td>\n",
       "      <td>105</td>\n",
       "      <td>0.433</td>\n",
       "      <td>0.714</td>\n",
       "      <td>0.297</td>\n",
       "      <td>21</td>\n",
       "      <td>55</td>\n",
       "      <td>14</td>\n",
       "      <td>47</td>\n",
       "      <td>58</td>\n",
       "      <td>105</td>\n",
       "    </tr>\n",
       "    <tr>\n",
       "      <td>2</td>\n",
       "      <td>2018-10-16T00:00:00</td>\n",
       "      <td>2</td>\n",
       "      <td>0021800002</td>\n",
       "      <td>1610612760</td>\n",
       "      <td>OKC</td>\n",
       "      <td>Oklahoma City</td>\n",
       "      <td>0-1</td>\n",
       "      <td>23</td>\n",
       "      <td>24</td>\n",
       "      <td>32</td>\n",
       "      <td>...</td>\n",
       "      <td>100</td>\n",
       "      <td>0.363</td>\n",
       "      <td>0.649</td>\n",
       "      <td>0.270</td>\n",
       "      <td>21</td>\n",
       "      <td>45</td>\n",
       "      <td>14</td>\n",
       "      <td>47</td>\n",
       "      <td>53</td>\n",
       "      <td>100</td>\n",
       "    </tr>\n",
       "    <tr>\n",
       "      <td>3</td>\n",
       "      <td>2018-10-16T00:00:00</td>\n",
       "      <td>2</td>\n",
       "      <td>0021800002</td>\n",
       "      <td>1610612744</td>\n",
       "      <td>GSW</td>\n",
       "      <td>Golden State</td>\n",
       "      <td>1-0</td>\n",
       "      <td>31</td>\n",
       "      <td>26</td>\n",
       "      <td>26</td>\n",
       "      <td>...</td>\n",
       "      <td>108</td>\n",
       "      <td>0.442</td>\n",
       "      <td>0.944</td>\n",
       "      <td>0.269</td>\n",
       "      <td>28</td>\n",
       "      <td>58</td>\n",
       "      <td>21</td>\n",
       "      <td>57</td>\n",
       "      <td>51</td>\n",
       "      <td>108</td>\n",
       "    </tr>\n",
       "    <tr>\n",
       "      <td>0</td>\n",
       "      <td>2018-10-17T00:00:00</td>\n",
       "      <td>1</td>\n",
       "      <td>0021800003</td>\n",
       "      <td>1610612749</td>\n",
       "      <td>MIL</td>\n",
       "      <td>Milwaukee</td>\n",
       "      <td>1-0</td>\n",
       "      <td>36</td>\n",
       "      <td>31</td>\n",
       "      <td>26</td>\n",
       "      <td>...</td>\n",
       "      <td>113</td>\n",
       "      <td>0.494</td>\n",
       "      <td>0.750</td>\n",
       "      <td>0.412</td>\n",
       "      <td>26</td>\n",
       "      <td>57</td>\n",
       "      <td>21</td>\n",
       "      <td>67</td>\n",
       "      <td>46</td>\n",
       "      <td>113</td>\n",
       "    </tr>\n",
       "  </tbody>\n",
       "</table>\n",
       "<p>5 rows × 31 columns</p>\n",
       "</div>"
      ],
      "text/plain": [
       "         GAME_DATE_EST  GAME_SEQUENCE     GAME_ID     TEAM_ID  \\\n",
       "0  2018-10-16T00:00:00              1  0021800001  1610612755   \n",
       "1  2018-10-16T00:00:00              1  0021800001  1610612738   \n",
       "2  2018-10-16T00:00:00              2  0021800002  1610612760   \n",
       "3  2018-10-16T00:00:00              2  0021800002  1610612744   \n",
       "0  2018-10-17T00:00:00              1  0021800003  1610612749   \n",
       "\n",
       "  TEAM_ABBREVIATION TEAM_CITY_NAME TEAM_WINS_LOSSES  PTS_QTR1  PTS_QTR2  \\\n",
       "0               PHI   Philadelphia              0-1        21        21   \n",
       "1               BOS         Boston              1-0        21        26   \n",
       "2               OKC  Oklahoma City              0-1        23        24   \n",
       "3               GSW   Golden State              1-0        31        26   \n",
       "0               MIL      Milwaukee              1-0        36        31   \n",
       "\n",
       "   PTS_QTR3  ...  PTS  FG_PCT  FT_PCT  FG3_PCT  AST  REB  TOV  PTS_FHALF  \\\n",
       "0        24  ...   87   0.391   0.609    0.192   18   47   16         42   \n",
       "1        30  ...  105   0.433   0.714    0.297   21   55   14         47   \n",
       "2        32  ...  100   0.363   0.649    0.270   21   45   14         47   \n",
       "3        26  ...  108   0.442   0.944    0.269   28   58   21         57   \n",
       "0        26  ...  113   0.494   0.750    0.412   26   57   21         67   \n",
       "\n",
       "   PTS_SHALF  REG_PTS  \n",
       "0         45       87  \n",
       "1         58      105  \n",
       "2         53      100  \n",
       "3         51      108  \n",
       "0         46      113  \n",
       "\n",
       "[5 rows x 31 columns]"
      ]
     },
     "execution_count": 9,
     "metadata": {},
     "output_type": "execute_result"
    }
   ],
   "source": [
    "df.to_csv('2018-2019.csv')\n",
    "df.head()"
   ]
  },
  {
   "cell_type": "markdown",
   "metadata": {
    "collapsed": true
   },
   "source": [
    "### Part 3: Find the Factors of Game\n",
    "1) For finding the factors we need broader BoxScore (not just the game details above)\n",
    "2) We are using Box Score from NBA.stats\n"
   ]
  },
  {
   "cell_type": "code",
   "execution_count": 14,
   "metadata": {
    "collapsed": false
   },
   "outputs": [],
   "source": [
    "# Reading Data Back from CSV File (Multiple Reuqest is getting rejected)\n",
    "#df = pd.read_csv('2018-2019.csv')\n",
    "# Finding all unique game_ids\n",
    "game_ids = df['GAME_ID'].unique()\n",
    "#print(game_ids)"
   ]
  },
  {
   "cell_type": "code",
   "execution_count": 15,
   "metadata": {
    "collapsed": false
   },
   "outputs": [],
   "source": [
    "# Getting Factors data for all the games\n",
    "df_factor = pd.DataFrame()\n",
    "for i in range(len(game_ids)):\n",
    "    data = game.BoxscoreFourFactors(game_id=game_ids[i], season='2018-19', season_type='Regular Season', range_type='0', start_period='0', end_period='0', start_range='0', end_range='0')\n",
    "    df_temp = data.sql_team_four_factors()\n",
    "    #print(df_temp)\n",
    "    df_factor = df_factor.append(df_temp)"
   ]
  },
  {
   "cell_type": "code",
   "execution_count": 16,
   "metadata": {
    "collapsed": false
   },
   "outputs": [
    {
     "data": {
      "text/html": [
       "<div>\n",
       "<style scoped>\n",
       "    .dataframe tbody tr th:only-of-type {\n",
       "        vertical-align: middle;\n",
       "    }\n",
       "\n",
       "    .dataframe tbody tr th {\n",
       "        vertical-align: top;\n",
       "    }\n",
       "\n",
       "    .dataframe thead th {\n",
       "        text-align: right;\n",
       "    }\n",
       "</style>\n",
       "<table border=\"1\" class=\"dataframe\">\n",
       "  <thead>\n",
       "    <tr style=\"text-align: right;\">\n",
       "      <th></th>\n",
       "      <th>GAME_ID</th>\n",
       "      <th>TEAM_ID</th>\n",
       "      <th>TEAM_NAME</th>\n",
       "      <th>TEAM_ABBREVIATION</th>\n",
       "      <th>TEAM_CITY</th>\n",
       "      <th>MIN</th>\n",
       "      <th>EFG_PCT</th>\n",
       "      <th>FTA_RATE</th>\n",
       "      <th>TM_TOV_PCT</th>\n",
       "      <th>OREB_PCT</th>\n",
       "      <th>OPP_EFG_PCT</th>\n",
       "      <th>OPP_FTA_RATE</th>\n",
       "      <th>OPP_TOV_PCT</th>\n",
       "      <th>OPP_OREB_PCT</th>\n",
       "    </tr>\n",
       "  </thead>\n",
       "  <tbody>\n",
       "    <tr>\n",
       "      <td>0</td>\n",
       "      <td>0021800001</td>\n",
       "      <td>1610612755</td>\n",
       "      <td>76ers</td>\n",
       "      <td>PHI</td>\n",
       "      <td>Philadelphia</td>\n",
       "      <td>240:00</td>\n",
       "      <td>0.420</td>\n",
       "      <td>0.264</td>\n",
       "      <td>0.149</td>\n",
       "      <td>0.105</td>\n",
       "      <td>0.490</td>\n",
       "      <td>0.144</td>\n",
       "      <td>0.141</td>\n",
       "      <td>0.250</td>\n",
       "    </tr>\n",
       "    <tr>\n",
       "      <td>1</td>\n",
       "      <td>0021800001</td>\n",
       "      <td>1610612738</td>\n",
       "      <td>Celtics</td>\n",
       "      <td>BOS</td>\n",
       "      <td>Boston</td>\n",
       "      <td>240:00</td>\n",
       "      <td>0.490</td>\n",
       "      <td>0.144</td>\n",
       "      <td>0.141</td>\n",
       "      <td>0.214</td>\n",
       "      <td>0.420</td>\n",
       "      <td>0.264</td>\n",
       "      <td>0.149</td>\n",
       "      <td>0.175</td>\n",
       "    </tr>\n",
       "    <tr>\n",
       "      <td>0</td>\n",
       "      <td>0021800002</td>\n",
       "      <td>1610612760</td>\n",
       "      <td>Thunder</td>\n",
       "      <td>OKC</td>\n",
       "      <td>Oklahoma City</td>\n",
       "      <td>240:00</td>\n",
       "      <td>0.418</td>\n",
       "      <td>0.407</td>\n",
       "      <td>0.141</td>\n",
       "      <td>0.242</td>\n",
       "      <td>0.479</td>\n",
       "      <td>0.189</td>\n",
       "      <td>0.196</td>\n",
       "      <td>0.415</td>\n",
       "    </tr>\n",
       "    <tr>\n",
       "      <td>1</td>\n",
       "      <td>0021800002</td>\n",
       "      <td>1610612744</td>\n",
       "      <td>Warriors</td>\n",
       "      <td>GSW</td>\n",
       "      <td>Golden State</td>\n",
       "      <td>240:00</td>\n",
       "      <td>0.479</td>\n",
       "      <td>0.189</td>\n",
       "      <td>0.196</td>\n",
       "      <td>0.321</td>\n",
       "      <td>0.418</td>\n",
       "      <td>0.407</td>\n",
       "      <td>0.141</td>\n",
       "      <td>0.348</td>\n",
       "    </tr>\n",
       "    <tr>\n",
       "      <td>0</td>\n",
       "      <td>0021800003</td>\n",
       "      <td>1610612749</td>\n",
       "      <td>Bucks</td>\n",
       "      <td>MIL</td>\n",
       "      <td>Milwaukee</td>\n",
       "      <td>240:00</td>\n",
       "      <td>0.576</td>\n",
       "      <td>0.235</td>\n",
       "      <td>0.202</td>\n",
       "      <td>0.239</td>\n",
       "      <td>0.533</td>\n",
       "      <td>0.239</td>\n",
       "      <td>0.106</td>\n",
       "      <td>0.193</td>\n",
       "    </tr>\n",
       "  </tbody>\n",
       "</table>\n",
       "</div>"
      ],
      "text/plain": [
       "      GAME_ID     TEAM_ID TEAM_NAME TEAM_ABBREVIATION      TEAM_CITY     MIN  \\\n",
       "0  0021800001  1610612755     76ers               PHI   Philadelphia  240:00   \n",
       "1  0021800001  1610612738   Celtics               BOS         Boston  240:00   \n",
       "0  0021800002  1610612760   Thunder               OKC  Oklahoma City  240:00   \n",
       "1  0021800002  1610612744  Warriors               GSW   Golden State  240:00   \n",
       "0  0021800003  1610612749     Bucks               MIL      Milwaukee  240:00   \n",
       "\n",
       "   EFG_PCT  FTA_RATE  TM_TOV_PCT  OREB_PCT  OPP_EFG_PCT  OPP_FTA_RATE  \\\n",
       "0    0.420     0.264       0.149     0.105        0.490         0.144   \n",
       "1    0.490     0.144       0.141     0.214        0.420         0.264   \n",
       "0    0.418     0.407       0.141     0.242        0.479         0.189   \n",
       "1    0.479     0.189       0.196     0.321        0.418         0.407   \n",
       "0    0.576     0.235       0.202     0.239        0.533         0.239   \n",
       "\n",
       "   OPP_TOV_PCT  OPP_OREB_PCT  \n",
       "0        0.141         0.250  \n",
       "1        0.149         0.175  \n",
       "0        0.196         0.415  \n",
       "1        0.141         0.348  \n",
       "0        0.106         0.193  "
      ]
     },
     "execution_count": 16,
     "metadata": {},
     "output_type": "execute_result"
    }
   ],
   "source": [
    "df_factor.to_csv('2018-2019_factor.csv')\n",
    "df_factor.head()"
   ]
  },
  {
   "cell_type": "code",
   "execution_count": 18,
   "metadata": {
    "collapsed": false
   },
   "outputs": [
    {
     "data": {
      "text/plain": [
       "70"
      ]
     },
     "execution_count": 18,
     "metadata": {},
     "output_type": "execute_result"
    }
   ],
   "source": [
    "len()"
   ]
  },
  {
   "cell_type": "code",
   "execution_count": 17,
   "metadata": {
    "collapsed": false
   },
   "outputs": [
    {
     "name": "stdout",
     "output_type": "stream",
     "text": [
      "GAME_SEQUENCE    4.870968e+00\n",
      "TEAM_ID          1.610613e+09\n",
      "PTS_QTR1         2.776613e+01\n",
      "PTS_QTR2         2.912097e+01\n",
      "PTS_QTR3         2.774194e+01\n",
      "PTS_QTR4         2.714516e+01\n",
      "PTS_OT1          6.532258e-01\n",
      "PTS_OT2          0.000000e+00\n",
      "PTS_OT3          0.000000e+00\n",
      "PTS_OT4          0.000000e+00\n",
      "PTS_OT5          0.000000e+00\n",
      "PTS_OT6          0.000000e+00\n",
      "PTS_OT7          0.000000e+00\n",
      "PTS_OT8          0.000000e+00\n",
      "PTS_OT9          0.000000e+00\n",
      "PTS_OT10         0.000000e+00\n",
      "PTS              1.124274e+02\n",
      "FG_PCT           4.554274e-01\n",
      "FT_PCT           7.589355e-01\n",
      "FG3_PCT          3.562661e-01\n",
      "AST              2.410484e+01\n",
      "REB              4.604839e+01\n",
      "TOV              1.388710e+01\n",
      "dtype: float64\n"
     ]
    }
   ],
   "source": [
    "# Finding the QTRs Points Mean and Diff of Each Match from Team\n",
    "df_mean = df.mean()\n",
    "print(df_mean)"
   ]
  },
  {
   "cell_type": "code",
   "execution_count": 18,
   "metadata": {
    "collapsed": false
   },
   "outputs": [
    {
     "name": "stdout",
     "output_type": "stream",
     "text": [
      "Unnamed: 0      5.000000e-01\n",
      "GAME_ID         2.180003e+07\n",
      "TEAM_ID         1.610613e+09\n",
      "EFG_PCT         5.175726e-01\n",
      "FTA_RATE        2.726855e-01\n",
      "TM_TOV_PCT      1.374758e-01\n",
      "OREB_PCT        2.059355e-01\n",
      "OPP_EFG_PCT     5.175726e-01\n",
      "OPP_FTA_RATE    2.726855e-01\n",
      "OPP_TOV_PCT     1.374758e-01\n",
      "OPP_OREB_PCT    2.788065e-01\n",
      "dtype: float64\n"
     ]
    }
   ],
   "source": [
    "df_factor = pd.read_csv('2018-2019_factor.csv')\n",
    "df_mean_factor = df_factor.mean()\n",
    "print(df_mean_factor)"
   ]
  },
  {
   "cell_type": "code",
   "execution_count": null,
   "metadata": {
    "collapsed": true
   },
   "outputs": [],
   "source": [
    "# Finding Difference between Mean and QTRs and Factor\n",
    "\n"
   ]
  }
 ],
 "metadata": {
  "anaconda-cloud": {},
  "kernelspec": {
   "display_name": "Python [conda env:Anaconda3]",
   "language": "python",
   "name": "conda-env-Anaconda3-py"
  },
  "language_info": {
   "codemirror_mode": {
    "name": "ipython",
    "version": 3
   },
   "file_extension": ".py",
   "mimetype": "text/x-python",
   "name": "python",
   "nbconvert_exporter": "python",
   "pygments_lexer": "ipython3",
   "version": "3.5.6"
  }
 },
 "nbformat": 4,
 "nbformat_minor": 1
}
