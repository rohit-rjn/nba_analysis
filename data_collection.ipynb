{
 "cells": [
  {
   "cell_type": "code",
   "execution_count": 15,
   "metadata": {
    "collapsed": false
   },
   "outputs": [],
   "source": [
    "import pandas as pd\n",
    "from nba_py import team\n",
    "from nba_py import game\n"
   ]
  },
  {
   "cell_type": "code",
   "execution_count": 82,
   "metadata": {
    "collapsed": false
   },
   "outputs": [],
   "source": [
    "df = game.Boxscore(game_id='0021800944', season='2018-19', season_type='Regular Season', range_type='0', start_period='0', end_period='0', start_range='0', end_range='0')\n",
    "df = df.team_stats()"
   ]
  },
  {
   "cell_type": "code",
   "execution_count": 86,
   "metadata": {
    "collapsed": false
   },
   "outputs": [],
   "source": [
    "df.to_csv('boxscore_team_stats.csv')\n",
    "df.head()"
   ]
  },
  {
   "cell_type": "code",
   "execution_count": 84,
   "metadata": {
    "collapsed": false
   },
   "outputs": [],
   "source": [
    "df = game.BoxscoreSummary(game_id='0021800155', season='2018-19', season_type='Regular Season', range_type='0', start_period='0', end_period='0', start_range='0', end_range='0')\n",
    "df = df.line_score()"
   ]
  },
  {
   "cell_type": "code",
   "execution_count": 85,
   "metadata": {
    "collapsed": false
   },
   "outputs": [
    {
     "data": {
      "text/html": [
       "<div>\n",
       "<style scoped>\n",
       "    .dataframe tbody tr th:only-of-type {\n",
       "        vertical-align: middle;\n",
       "    }\n",
       "\n",
       "    .dataframe tbody tr th {\n",
       "        vertical-align: top;\n",
       "    }\n",
       "\n",
       "    .dataframe thead th {\n",
       "        text-align: right;\n",
       "    }\n",
       "</style>\n",
       "<table border=\"1\" class=\"dataframe\">\n",
       "  <thead>\n",
       "    <tr style=\"text-align: right;\">\n",
       "      <th></th>\n",
       "      <th>GAME_DATE_EST</th>\n",
       "      <th>GAME_SEQUENCE</th>\n",
       "      <th>GAME_ID</th>\n",
       "      <th>TEAM_ID</th>\n",
       "      <th>TEAM_ABBREVIATION</th>\n",
       "      <th>TEAM_CITY_NAME</th>\n",
       "      <th>TEAM_NICKNAME</th>\n",
       "      <th>TEAM_WINS_LOSSES</th>\n",
       "      <th>PTS_QTR1</th>\n",
       "      <th>PTS_QTR2</th>\n",
       "      <th>...</th>\n",
       "      <th>PTS_OT2</th>\n",
       "      <th>PTS_OT3</th>\n",
       "      <th>PTS_OT4</th>\n",
       "      <th>PTS_OT5</th>\n",
       "      <th>PTS_OT6</th>\n",
       "      <th>PTS_OT7</th>\n",
       "      <th>PTS_OT8</th>\n",
       "      <th>PTS_OT9</th>\n",
       "      <th>PTS_OT10</th>\n",
       "      <th>PTS</th>\n",
       "    </tr>\n",
       "  </thead>\n",
       "  <tbody>\n",
       "    <tr>\n",
       "      <td>0</td>\n",
       "      <td>2018-11-07T00:00:00</td>\n",
       "      <td>3</td>\n",
       "      <td>0021800155</td>\n",
       "      <td>1610612737</td>\n",
       "      <td>ATL</td>\n",
       "      <td>Atlanta</td>\n",
       "      <td>Hawks</td>\n",
       "      <td>3-8</td>\n",
       "      <td>26</td>\n",
       "      <td>29</td>\n",
       "      <td>...</td>\n",
       "      <td>0</td>\n",
       "      <td>0</td>\n",
       "      <td>0</td>\n",
       "      <td>0</td>\n",
       "      <td>0</td>\n",
       "      <td>0</td>\n",
       "      <td>0</td>\n",
       "      <td>0</td>\n",
       "      <td>0</td>\n",
       "      <td>107</td>\n",
       "    </tr>\n",
       "    <tr>\n",
       "      <td>1</td>\n",
       "      <td>2018-11-07T00:00:00</td>\n",
       "      <td>3</td>\n",
       "      <td>0021800155</td>\n",
       "      <td>1610612752</td>\n",
       "      <td>NYK</td>\n",
       "      <td>New York</td>\n",
       "      <td>Knicks</td>\n",
       "      <td>4-8</td>\n",
       "      <td>26</td>\n",
       "      <td>26</td>\n",
       "      <td>...</td>\n",
       "      <td>0</td>\n",
       "      <td>0</td>\n",
       "      <td>0</td>\n",
       "      <td>0</td>\n",
       "      <td>0</td>\n",
       "      <td>0</td>\n",
       "      <td>0</td>\n",
       "      <td>0</td>\n",
       "      <td>0</td>\n",
       "      <td>112</td>\n",
       "    </tr>\n",
       "  </tbody>\n",
       "</table>\n",
       "<p>2 rows × 23 columns</p>\n",
       "</div>"
      ],
      "text/plain": [
       "         GAME_DATE_EST  GAME_SEQUENCE     GAME_ID     TEAM_ID  \\\n",
       "0  2018-11-07T00:00:00              3  0021800155  1610612737   \n",
       "1  2018-11-07T00:00:00              3  0021800155  1610612752   \n",
       "\n",
       "  TEAM_ABBREVIATION TEAM_CITY_NAME TEAM_NICKNAME TEAM_WINS_LOSSES  PTS_QTR1  \\\n",
       "0               ATL        Atlanta         Hawks              3-8        26   \n",
       "1               NYK       New York        Knicks              4-8        26   \n",
       "\n",
       "   PTS_QTR2  ...  PTS_OT2  PTS_OT3  PTS_OT4  PTS_OT5  PTS_OT6  PTS_OT7  \\\n",
       "0        29  ...        0        0        0        0        0        0   \n",
       "1        26  ...        0        0        0        0        0        0   \n",
       "\n",
       "   PTS_OT8  PTS_OT9  PTS_OT10  PTS  \n",
       "0        0        0         0  107  \n",
       "1        0        0         0  112  \n",
       "\n",
       "[2 rows x 23 columns]"
      ]
     },
     "execution_count": 85,
     "metadata": {},
     "output_type": "execute_result"
    }
   ],
   "source": [
    "df.to_csv('boxscoresumm_line_score.csv')\n",
    "df.head()"
   ]
  },
  {
   "cell_type": "code",
   "execution_count": 87,
   "metadata": {
    "collapsed": false
   },
   "outputs": [],
   "source": [
    "df = game.BoxscoreAdvanced(game_id='0021800155', season='2018-19', season_type='Regular Season', range_type='0', start_period='0', end_period='0', start_range='0', end_range='0')\n",
    "df = df.sql_team_advanced()"
   ]
  },
  {
   "cell_type": "code",
   "execution_count": 88,
   "metadata": {
    "collapsed": false
   },
   "outputs": [
    {
     "data": {
      "text/html": [
       "<div>\n",
       "<style scoped>\n",
       "    .dataframe tbody tr th:only-of-type {\n",
       "        vertical-align: middle;\n",
       "    }\n",
       "\n",
       "    .dataframe tbody tr th {\n",
       "        vertical-align: top;\n",
       "    }\n",
       "\n",
       "    .dataframe thead th {\n",
       "        text-align: right;\n",
       "    }\n",
       "</style>\n",
       "<table border=\"1\" class=\"dataframe\">\n",
       "  <thead>\n",
       "    <tr style=\"text-align: right;\">\n",
       "      <th></th>\n",
       "      <th>GAME_ID</th>\n",
       "      <th>TEAM_ID</th>\n",
       "      <th>TEAM_NAME</th>\n",
       "      <th>TEAM_ABBREVIATION</th>\n",
       "      <th>TEAM_CITY</th>\n",
       "      <th>MIN</th>\n",
       "      <th>E_OFF_RATING</th>\n",
       "      <th>OFF_RATING</th>\n",
       "      <th>E_DEF_RATING</th>\n",
       "      <th>DEF_RATING</th>\n",
       "      <th>...</th>\n",
       "      <th>TM_TOV_PCT</th>\n",
       "      <th>EFG_PCT</th>\n",
       "      <th>TS_PCT</th>\n",
       "      <th>USG_PCT</th>\n",
       "      <th>E_USG_PCT</th>\n",
       "      <th>E_PACE</th>\n",
       "      <th>PACE</th>\n",
       "      <th>PACE_PER40</th>\n",
       "      <th>POSS</th>\n",
       "      <th>PIE</th>\n",
       "    </tr>\n",
       "  </thead>\n",
       "  <tbody>\n",
       "    <tr>\n",
       "      <td>0</td>\n",
       "      <td>0021800155</td>\n",
       "      <td>1610612752</td>\n",
       "      <td>Knicks</td>\n",
       "      <td>NYK</td>\n",
       "      <td>New York</td>\n",
       "      <td>240:00</td>\n",
       "      <td>107.0</td>\n",
       "      <td>106.7</td>\n",
       "      <td>100.2</td>\n",
       "      <td>102.9</td>\n",
       "      <td>...</td>\n",
       "      <td>17.1</td>\n",
       "      <td>0.513</td>\n",
       "      <td>0.573</td>\n",
       "      <td>1.0</td>\n",
       "      <td>0.199</td>\n",
       "      <td>105.72</td>\n",
       "      <td>104.5</td>\n",
       "      <td>87.08</td>\n",
       "      <td>105</td>\n",
       "      <td>0.517</td>\n",
       "    </tr>\n",
       "    <tr>\n",
       "      <td>1</td>\n",
       "      <td>0021800155</td>\n",
       "      <td>1610612737</td>\n",
       "      <td>Hawks</td>\n",
       "      <td>ATL</td>\n",
       "      <td>Atlanta</td>\n",
       "      <td>240:00</td>\n",
       "      <td>100.2</td>\n",
       "      <td>102.9</td>\n",
       "      <td>107.0</td>\n",
       "      <td>106.7</td>\n",
       "      <td>...</td>\n",
       "      <td>16.3</td>\n",
       "      <td>0.462</td>\n",
       "      <td>0.511</td>\n",
       "      <td>1.0</td>\n",
       "      <td>0.195</td>\n",
       "      <td>105.72</td>\n",
       "      <td>104.5</td>\n",
       "      <td>87.08</td>\n",
       "      <td>104</td>\n",
       "      <td>0.483</td>\n",
       "    </tr>\n",
       "  </tbody>\n",
       "</table>\n",
       "<p>2 rows × 29 columns</p>\n",
       "</div>"
      ],
      "text/plain": [
       "      GAME_ID     TEAM_ID TEAM_NAME TEAM_ABBREVIATION TEAM_CITY     MIN  \\\n",
       "0  0021800155  1610612752    Knicks               NYK  New York  240:00   \n",
       "1  0021800155  1610612737     Hawks               ATL   Atlanta  240:00   \n",
       "\n",
       "   E_OFF_RATING  OFF_RATING  E_DEF_RATING  DEF_RATING  ...  TM_TOV_PCT  \\\n",
       "0         107.0       106.7         100.2       102.9  ...        17.1   \n",
       "1         100.2       102.9         107.0       106.7  ...        16.3   \n",
       "\n",
       "   EFG_PCT  TS_PCT  USG_PCT  E_USG_PCT  E_PACE   PACE  PACE_PER40  POSS    PIE  \n",
       "0    0.513   0.573      1.0      0.199  105.72  104.5       87.08   105  0.517  \n",
       "1    0.462   0.511      1.0      0.195  105.72  104.5       87.08   104  0.483  \n",
       "\n",
       "[2 rows x 29 columns]"
      ]
     },
     "execution_count": 88,
     "metadata": {},
     "output_type": "execute_result"
    }
   ],
   "source": [
    "df.to_csv('boxscoreadv_team.csv')\n",
    "df.head()"
   ]
  },
  {
   "cell_type": "code",
   "execution_count": 89,
   "metadata": {
    "collapsed": true
   },
   "outputs": [],
   "source": [
    "df = game.BoxscoreFourFactors(game_id='0021800155', season='2018-19', season_type='Regular Season', range_type='0', start_period='0', end_period='0', start_range='0', end_range='0')\n",
    "df = df.sql_team_four_factors()"
   ]
  },
  {
   "cell_type": "code",
   "execution_count": 90,
   "metadata": {
    "collapsed": false
   },
   "outputs": [
    {
     "data": {
      "text/html": [
       "<div>\n",
       "<style scoped>\n",
       "    .dataframe tbody tr th:only-of-type {\n",
       "        vertical-align: middle;\n",
       "    }\n",
       "\n",
       "    .dataframe tbody tr th {\n",
       "        vertical-align: top;\n",
       "    }\n",
       "\n",
       "    .dataframe thead th {\n",
       "        text-align: right;\n",
       "    }\n",
       "</style>\n",
       "<table border=\"1\" class=\"dataframe\">\n",
       "  <thead>\n",
       "    <tr style=\"text-align: right;\">\n",
       "      <th></th>\n",
       "      <th>GAME_ID</th>\n",
       "      <th>TEAM_ID</th>\n",
       "      <th>TEAM_NAME</th>\n",
       "      <th>TEAM_ABBREVIATION</th>\n",
       "      <th>TEAM_CITY</th>\n",
       "      <th>MIN</th>\n",
       "      <th>EFG_PCT</th>\n",
       "      <th>FTA_RATE</th>\n",
       "      <th>TM_TOV_PCT</th>\n",
       "      <th>OREB_PCT</th>\n",
       "      <th>OPP_EFG_PCT</th>\n",
       "      <th>OPP_FTA_RATE</th>\n",
       "      <th>OPP_TOV_PCT</th>\n",
       "      <th>OPP_OREB_PCT</th>\n",
       "    </tr>\n",
       "  </thead>\n",
       "  <tbody>\n",
       "    <tr>\n",
       "      <td>0</td>\n",
       "      <td>0021800155</td>\n",
       "      <td>1610612752</td>\n",
       "      <td>Knicks</td>\n",
       "      <td>NYK</td>\n",
       "      <td>New York</td>\n",
       "      <td>240:00</td>\n",
       "      <td>0.513</td>\n",
       "      <td>0.610</td>\n",
       "      <td>0.172</td>\n",
       "      <td>0.229</td>\n",
       "      <td>0.462</td>\n",
       "      <td>0.315</td>\n",
       "      <td>0.159</td>\n",
       "      <td>0.310</td>\n",
       "    </tr>\n",
       "    <tr>\n",
       "      <td>1</td>\n",
       "      <td>0021800155</td>\n",
       "      <td>1610612737</td>\n",
       "      <td>Hawks</td>\n",
       "      <td>ATL</td>\n",
       "      <td>Atlanta</td>\n",
       "      <td>240:00</td>\n",
       "      <td>0.462</td>\n",
       "      <td>0.315</td>\n",
       "      <td>0.159</td>\n",
       "      <td>0.259</td>\n",
       "      <td>0.513</td>\n",
       "      <td>0.610</td>\n",
       "      <td>0.172</td>\n",
       "      <td>0.333</td>\n",
       "    </tr>\n",
       "  </tbody>\n",
       "</table>\n",
       "</div>"
      ],
      "text/plain": [
       "      GAME_ID     TEAM_ID TEAM_NAME TEAM_ABBREVIATION TEAM_CITY     MIN  \\\n",
       "0  0021800155  1610612752    Knicks               NYK  New York  240:00   \n",
       "1  0021800155  1610612737     Hawks               ATL   Atlanta  240:00   \n",
       "\n",
       "   EFG_PCT  FTA_RATE  TM_TOV_PCT  OREB_PCT  OPP_EFG_PCT  OPP_FTA_RATE  \\\n",
       "0    0.513     0.610       0.172     0.229        0.462         0.315   \n",
       "1    0.462     0.315       0.159     0.259        0.513         0.610   \n",
       "\n",
       "   OPP_TOV_PCT  OPP_OREB_PCT  \n",
       "0        0.159         0.310  \n",
       "1        0.172         0.333  "
      ]
     },
     "execution_count": 90,
     "metadata": {},
     "output_type": "execute_result"
    }
   ],
   "source": [
    "df.to_csv('boxscorefourfactor_team.csv')\n",
    "df.head()"
   ]
  },
  {
   "cell_type": "code",
   "execution_count": null,
   "metadata": {
    "collapsed": true
   },
   "outputs": [],
   "source": []
  }
 ],
 "metadata": {
  "anaconda-cloud": {},
  "kernelspec": {
   "display_name": "Python [conda env:Anaconda3]",
   "language": "python",
   "name": "conda-env-Anaconda3-py"
  },
  "language_info": {
   "codemirror_mode": {
    "name": "ipython",
    "version": 3
   },
   "file_extension": ".py",
   "mimetype": "text/x-python",
   "name": "python",
   "nbconvert_exporter": "python",
   "pygments_lexer": "ipython3",
   "version": "3.5.6"
  }
 },
 "nbformat": 4,
 "nbformat_minor": 1
}
